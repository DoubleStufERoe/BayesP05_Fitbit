{
 "cells": [
  {
   "cell_type": "code",
   "execution_count": 1,
   "metadata": {},
   "outputs": [],
   "source": [
    "import pandas as pd\n",
    "import numpy as np\n",
    "import matplotlib.pyplot as plt\n",
    "import wrangle_fitbit as wf\n",
    "import seaborn as sns\n",
    "import csv\n",
    "from sklearn import metrics\n",
    "from math import sqrt\n",
    "import explore"
   ]
  },
  {
   "cell_type": "markdown",
   "metadata": {},
   "source": [
    "### Planning and Initial Hypothesis\n",
    "\n",
    "##### Initial Hypothesis: \n",
    "\n",
    "This person was inactive until July and then started some sort of exercise program.\n",
    "\n",
    "This person was a 27yo male, 5'10, 189lbs\n",
    "\n",
    "#### Goal\n",
    "\n",
    "Improve model to predict calories burned, steps, and active calories burned for the missing 12 days and for future future days.\n",
    "\n",
    "Make discoveries about the person this device belongs to.\n",
    "\n",
    "\n",
    "#### Planning and initial exploration\n",
    "\n",
    "Discussed possible drivers of calories burned and steps (weekday vs weekend, uptick over time, etc)\n",
    "\n",
    "Graphed all available data in boxplots by day of week.\n",
    "\n",
    "\n"
   ]
  },
  {
   "cell_type": "markdown",
   "metadata": {},
   "source": [
    "<img src=\"fitbit_person.png\" alt=\"Drawing\" style=\"width: 350px;\"/>"
   ]
  },
  {
   "cell_type": "markdown",
   "metadata": {},
   "source": [
    "### Acquire and prep data\n",
    "\n",
    "Data included 225 rows of data with 10 rows of data. There were 12 rows with no data except the precalculated BMR calories burned.\n",
    "\n",
    "After initial exploration we created additional features for day of week, minutes idle, and minutes the fitbit was worn vs not.\n",
    "\n",
    "\n",
    "#### Data Dictionary\n",
    "\n",
    "- cals_burned: calories burned in 24 hour period\n",
    "- steps: number of steps taken in 24 hour period (running, walking, etc)\n",
    "- activity_cals: The number of calories burned during the day when the user was active above sedentary level. This value is calculated minute by minute. This includes BMR for those minutes as well as activity burned calories.\n",
    "- flrs: 1 flrs is equal to an elevation change of ten feet.\n",
    "- dist: Distance traveled in kilometers in one 24 hour period.\n",
    "- mins_sed: Minutes at rest, not counted towards active minutes.\n",
    "- mins_light: Metabolic equivalents (MET) rate below 3 but not sedentary (walking, making the bed, etc)\n",
    "- mins_mod: MET rate between 3 and 5 (brisk walking, water aerobics, etc)\n",
    "- mins_heavy: MET rate 6 or greater. (lifting weights, running, etc)\n",
    "- activity_cals: Calories burned during activity (not including BMR)\n",
    "- mins_tot: Total minutes recorded by fitbit in 24 hour period.\n",
    "- mins_off: Total minutes not recorded by fitbit in 24 hour period.\n",
    "- week_day: Day of week\n",
    "- cals_idle: Idle calories burned excluding activity calories\n",
    "- mins_idle: Idle minutes in 24 hour period.\n",
    "- idle_cals_per_min: Idle calories burned per minute."
   ]
  },
  {
   "cell_type": "code",
   "execution_count": 3,
   "metadata": {},
   "outputs": [
    {
     "name": "stdout",
     "output_type": "stream",
     "text": [
      "DATAFRAME SHAPE:\n",
      "(225, 16)\n",
      "\n",
      "DATAFRAME INFO:\n",
      "<class 'pandas.core.frame.DataFrame'>\n",
      "DatetimeIndex: 225 entries, 2018-04-26 to 2018-12-06\n",
      "Data columns (total 16 columns):\n",
      "cals_burned          225 non-null float64\n",
      "steps                225 non-null float64\n",
      "dist                 225 non-null float64\n",
      "flrs                 225 non-null float64\n",
      "mins_sed             225 non-null float64\n",
      "mins_light           225 non-null float64\n",
      "mins_mod             225 non-null float64\n",
      "mins_heavy           225 non-null float64\n",
      "activity_cals        225 non-null float64\n",
      "mins_tot             225 non-null float64\n",
      "mins_off             225 non-null float64\n",
      "week_day             225 non-null object\n",
      "cals_idle            225 non-null float64\n",
      "mins_idle            225 non-null float64\n",
      "idle_cals_per_min    225 non-null float64\n",
      "daily_rest_cals      225 non-null float64\n",
      "dtypes: float64(15), object(1)\n",
      "memory usage: 29.9+ KB\n",
      "None\n",
      "\n",
      "DATAFRAME DESCRIPTION:\n",
      "                   count         mean          std         min          25%  \\\n",
      "cals_burned        225.0  3401.911111   632.426578  799.000000  3069.000000   \n",
      "steps              225.0  8536.186667  5255.746608    0.000000  4714.000000   \n",
      "dist               225.0     4.046800     2.506253    0.000000     2.220000   \n",
      "flrs               225.0    12.591111    25.844174    0.000000     2.000000   \n",
      "mins_sed           225.0   809.520000   243.232639   28.000000   654.000000   \n",
      "mins_light         225.0   188.235556    75.170001    0.000000   158.000000   \n",
      "mins_mod           225.0    14.920000    15.363535    0.000000     3.000000   \n",
      "mins_heavy         225.0    33.871111    37.195986    0.000000     2.000000   \n",
      "activity_cals      225.0  1484.546667   747.795790    0.000000  1062.000000   \n",
      "mins_tot           225.0  1046.546667   187.948200   41.000000   940.000000   \n",
      "mins_off           225.0   393.453333   187.948200    0.000000   364.000000   \n",
      "cals_idle          225.0  1917.364444   192.377351  748.000000  1792.000000   \n",
      "mins_idle          225.0  1202.973333   103.121761  935.000000  1141.000000   \n",
      "idle_cals_per_min  225.0     1.595770     0.110007    0.524177     1.527823   \n",
      "daily_rest_cals    225.0  2297.909079   158.409729  754.814296  2200.065466   \n",
      "\n",
      "                           50%           75%           max  \n",
      "cals_burned        3385.000000   3765.000000   5199.000000  \n",
      "steps              7806.000000  12380.000000  25512.000000  \n",
      "dist                  3.680000      5.900000     12.000000  \n",
      "flrs                  7.000000     13.000000    195.000000  \n",
      "mins_sed            750.000000    877.000000   1440.000000  \n",
      "mins_light          203.000000    236.000000    349.000000  \n",
      "mins_mod             11.000000     21.000000     78.000000  \n",
      "mins_heavy           15.000000     63.000000    154.000000  \n",
      "activity_cals      1481.000000   1962.000000   3596.000000  \n",
      "mins_tot            996.000000   1076.000000   1440.000000  \n",
      "mins_off            444.000000    500.000000   1399.000000  \n",
      "cals_idle          1923.000000   2055.000000   2291.000000  \n",
      "mins_idle          1187.000000   1253.000000   1440.000000  \n",
      "idle_cals_per_min     1.593611      1.669298      1.801118  \n",
      "daily_rest_cals    2294.800355   2403.788477   2593.610224  \n",
      "\n",
      "DATAFRAME HEAD:\n",
      "date              2018-04-26 2018-04-27 2018-04-28 2018-04-29 2018-04-30\n",
      "cals_burned             2635       3649       3379       2851       2825\n",
      "steps                   2931       9971       3521       1639       1323\n",
      "dist                    1.38        4.7       1.66       0.77       0.62\n",
      "flrs                       2         19          2          0          0\n",
      "mins_sed                1347       1158        702        891        880\n",
      "mins_light                93        219        155        122        104\n",
      "mins_mod                   0         46         22          0          0\n",
      "mins_heavy                 0         17         11          0          0\n",
      "activity_cals            566       1752       1124        602        540\n",
      "mins_tot                1440       1440        890       1013        984\n",
      "mins_off                   0          0        550        427        456\n",
      "week_day               4-Thu      5-Fri      6-Sat      0-Sun      1-Mon\n",
      "cals_idle               2069       1897       2255       2249       2285\n",
      "mins_idle               1347       1158       1252       1318       1336\n",
      "idle_cals_per_min    1.53601    1.63817    1.80112    1.70637    1.71033\n",
      "daily_rest_cals      2211.85    2358.96    2593.61    2457.18    2462.87\n",
      "\n"
     ]
    }
   ],
   "source": [
    "#get_activities: \n",
    "#grabs all csv files in fitbit folder, sets date to index, and renames columns\n",
    "df = wf.get_activities_data(splain=True)"
   ]
  },
  {
   "cell_type": "code",
   "execution_count": 4,
   "metadata": {},
   "outputs": [
    {
     "data": {
      "text/html": [
       "<div>\n",
       "<style scoped>\n",
       "    .dataframe tbody tr th:only-of-type {\n",
       "        vertical-align: middle;\n",
       "    }\n",
       "\n",
       "    .dataframe tbody tr th {\n",
       "        vertical-align: top;\n",
       "    }\n",
       "\n",
       "    .dataframe thead th {\n",
       "        text-align: right;\n",
       "    }\n",
       "</style>\n",
       "<table border=\"1\" class=\"dataframe\">\n",
       "  <thead>\n",
       "    <tr style=\"text-align: right;\">\n",
       "      <th></th>\n",
       "      <th>cals_burned</th>\n",
       "      <th>steps</th>\n",
       "      <th>dist</th>\n",
       "      <th>flrs</th>\n",
       "      <th>mins_sed</th>\n",
       "      <th>mins_light</th>\n",
       "      <th>mins_mod</th>\n",
       "      <th>mins_heavy</th>\n",
       "      <th>activity_cals</th>\n",
       "      <th>mins_tot</th>\n",
       "      <th>mins_off</th>\n",
       "      <th>week_day</th>\n",
       "      <th>cals_idle</th>\n",
       "      <th>mins_idle</th>\n",
       "      <th>idle_cals_per_min</th>\n",
       "      <th>daily_rest_cals</th>\n",
       "    </tr>\n",
       "    <tr>\n",
       "      <th>date</th>\n",
       "      <th></th>\n",
       "      <th></th>\n",
       "      <th></th>\n",
       "      <th></th>\n",
       "      <th></th>\n",
       "      <th></th>\n",
       "      <th></th>\n",
       "      <th></th>\n",
       "      <th></th>\n",
       "      <th></th>\n",
       "      <th></th>\n",
       "      <th></th>\n",
       "      <th></th>\n",
       "      <th></th>\n",
       "      <th></th>\n",
       "      <th></th>\n",
       "    </tr>\n",
       "  </thead>\n",
       "  <tbody>\n",
       "    <tr>\n",
       "      <th>2018-04-26</th>\n",
       "      <td>2635.0</td>\n",
       "      <td>2931.0</td>\n",
       "      <td>1.38</td>\n",
       "      <td>2.0</td>\n",
       "      <td>1347.0</td>\n",
       "      <td>93.0</td>\n",
       "      <td>0.0</td>\n",
       "      <td>0.0</td>\n",
       "      <td>566.0</td>\n",
       "      <td>1440.0</td>\n",
       "      <td>0.0</td>\n",
       "      <td>4-Thu</td>\n",
       "      <td>2069.0</td>\n",
       "      <td>1347.0</td>\n",
       "      <td>1.536006</td>\n",
       "      <td>2211.848552</td>\n",
       "    </tr>\n",
       "    <tr>\n",
       "      <th>2018-04-27</th>\n",
       "      <td>3649.0</td>\n",
       "      <td>9971.0</td>\n",
       "      <td>4.70</td>\n",
       "      <td>19.0</td>\n",
       "      <td>1158.0</td>\n",
       "      <td>219.0</td>\n",
       "      <td>46.0</td>\n",
       "      <td>17.0</td>\n",
       "      <td>1752.0</td>\n",
       "      <td>1440.0</td>\n",
       "      <td>0.0</td>\n",
       "      <td>5-Fri</td>\n",
       "      <td>1897.0</td>\n",
       "      <td>1158.0</td>\n",
       "      <td>1.638169</td>\n",
       "      <td>2358.963731</td>\n",
       "    </tr>\n",
       "  </tbody>\n",
       "</table>\n",
       "</div>"
      ],
      "text/plain": [
       "            cals_burned   steps  dist  flrs  mins_sed  mins_light  mins_mod  \\\n",
       "date                                                                          \n",
       "2018-04-26       2635.0  2931.0  1.38   2.0    1347.0        93.0       0.0   \n",
       "2018-04-27       3649.0  9971.0  4.70  19.0    1158.0       219.0      46.0   \n",
       "\n",
       "            mins_heavy  activity_cals  mins_tot  mins_off week_day  cals_idle  \\\n",
       "date                                                                            \n",
       "2018-04-26         0.0          566.0    1440.0       0.0    4-Thu     2069.0   \n",
       "2018-04-27        17.0         1752.0    1440.0       0.0    5-Fri     1897.0   \n",
       "\n",
       "            mins_idle  idle_cals_per_min  daily_rest_cals  \n",
       "date                                                       \n",
       "2018-04-26     1347.0           1.536006      2211.848552  \n",
       "2018-04-27     1158.0           1.638169      2358.963731  "
      ]
     },
     "execution_count": 4,
     "metadata": {},
     "output_type": "execute_result"
    }
   ],
   "source": [
    "df.head(2)"
   ]
  },
  {
   "cell_type": "markdown",
   "metadata": {},
   "source": [
    "### Exploration and feature selection\n",
    "\n",
    "\n",
    "#### Weekend Warrior\n",
    "\n",
    "The boxplots split by day of week show this person to be more active on Saturdays and Sundays.\n",
    "\n"
   ]
  },
  {
   "cell_type": "code",
   "execution_count": 7,
   "metadata": {},
   "outputs": [
    {
     "data": {
      "image/png": "[encoded data removed]",
      "text/plain": [
       "<Figure size 504x360 with 1 Axes>"
      ]
     },
     "metadata": {
      "needs_background": "light"
     },
     "output_type": "display_data"
    },
    {
     "data": {
      "image/png": "[encoded data removed]",
      "text/plain": [
       "<Figure size 504x360 with 1 Axes>"
      ]
     },
     "metadata": {
      "needs_background": "light"
     },
     "output_type": "display_data"
    },
    {
     "data": {
      "image/png": "[encoded data removed]",
      "text/plain": [
       "<Figure size 504x360 with 1 Axes>"
      ]
     },
     "metadata": {
      "needs_background": "light"
     },
     "output_type": "display_data"
    }
   ],
   "source": [
    "explore.all_box_plots(df[['cals_burned','dist','activity_cals','week_day']],x_col='week_day')"
   ]
  },
  {
   "cell_type": "markdown",
   "metadata": {},
   "source": [
    "#### Tale of two people\n",
    "\n",
    "After exploring the activity levels and burned calories it became apparent the person had two very distinct activity patterns. Up until early July activity levels were quite low, after that date there was progressively more heavy activity."
   ]
  },
  {
   "cell_type": "code",
   "execution_count": 5,
   "metadata": {},
   "outputs": [
    {
     "data": {
      "image/png": "[encoded data removed]",
      "text/plain": [
       "<Figure size 432x288 with 1 Axes>"
      ]
     },
     "metadata": {
      "needs_background": "light"
     },
     "output_type": "display_data"
    }
   ],
   "source": [
    "explore.activity_stack(df)"
   ]
  },
  {
   "cell_type": "markdown",
   "metadata": {},
   "source": [
    "#### Missing data\n",
    "\n",
    "The 12 missing days of data were all before July. So the decision was made predict the missing days using the simple mean of each feature only using the data up until July 7th."
   ]
  },
  {
   "cell_type": "code",
   "execution_count": null,
   "metadata": {},
   "outputs": [],
   "source": [
    "sns.pairplot(df[['cals_burned','mins_idle','mins_light','mins_heavy']],kind=\"reg\", plot_kws={'line_kws':{'color':'red'}})"
   ]
  },
  {
   "cell_type": "markdown",
   "metadata": {},
   "source": [
    "#### Floors: Major outliers in the increased-activity segment\n",
    "\n",
    "Floors spikes 9 times, suggesting there is either a stress-test, climb, bike ride, or some other unusual activity involving high increases in elevation. The heatmap does not reveal a direct correlation between floors and any other variable, suggesting that the elevation-changing activity is a transplanting some other elevated activity that would otherwise occur.\n",
    "\n",
    "To investigate further, we've pulled these 9 dates:"
   ]
  },
  {
   "cell_type": "code",
   "execution_count": null,
   "metadata": {},
   "outputs": [],
   "source": [
    "df[df.flrs >= 50]"
   ]
  },
  {
   "cell_type": "markdown",
   "metadata": {},
   "source": [
    "What we found was more confusing than not. One would expect changing elevation from 750 to 2000 feet would require more than light exertion, however the moderate and heavy values do not support such an increase. The only conceivable way these values match up is if the elevation change occured during times of light activity, such as a non-brisk walk.\n",
    "\n",
    "That, or the fitbit was faulty."
   ]
  },
  {
   "cell_type": "code",
   "execution_count": null,
   "metadata": {},
   "outputs": [],
   "source": [
    "def all_box_plots(df, x_col='week_day'):\n",
    "    new_df = df.copy()\n",
    "    new_df = new_df.sort_values(by=x_col)\n",
    "    for col in df_limit_numerics(df).columns:\n",
    "        \n",
    "        plt.figure(figsize=(7,5))\n",
    "        sns.boxplot(data=new_df,x=x_col,y=col,showmeans=True)\n",
    "\n",
    "        plt.hlines(df[col].mean(),0,6, color='blue')\n",
    "        plt\n",
    "        plt.ylabel(col)\n",
    "        plt.show()"
   ]
  },
  {
   "cell_type": "code",
   "execution_count": null,
   "metadata": {},
   "outputs": [],
   "source": [
    "all_box_plots(df[['cals_burned','steps','dist','activity_cals','week_day']],x_col='week_day')"
   ]
  },
  {
   "cell_type": "code",
   "execution_count": null,
   "metadata": {},
   "outputs": [],
   "source": [
    "df.head(2)"
   ]
  },
  {
   "cell_type": "code",
   "execution_count": null,
   "metadata": {},
   "outputs": [],
   "source": []
  }
 ],
 "metadata": {
  "kernelspec": {
   "display_name": "Python 3",
   "language": "python",
   "name": "python3"
  },
  "language_info": {
   "codemirror_mode": {
    "name": "ipython",
    "version": 3
   },
   "file_extension": ".py",
   "mimetype": "text/x-python",
   "name": "python",
   "nbconvert_exporter": "python",
   "pygments_lexer": "ipython3",
   "version": "3.7.3"
  }
 },
 "nbformat": 4,
 "nbformat_minor": 2
}
